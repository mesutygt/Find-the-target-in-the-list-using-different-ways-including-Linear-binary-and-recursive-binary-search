{
 "cells": [
  {
   "cell_type": "code",
   "execution_count": 9,
   "id": "c2770210",
   "metadata": {
    "scrolled": true
   },
   "outputs": [],
   "source": [
    "def linear_search(list, target):\n",
    "    \n",
    "    for i in range(0,len(list)):\n",
    "        if list[i]==target:\n",
    "            return i\n",
    "    return None\n",
    "def verify(index):\n",
    "    if index is not None:\n",
    "        print('target found at index:',index)\n",
    "    else:\n",
    "        print('target not found in list')\n",
    "        "
   ]
  },
  {
   "cell_type": "code",
   "execution_count": 12,
   "id": "0c66cd76",
   "metadata": {},
   "outputs": [
    {
     "name": "stdout",
     "output_type": "stream",
     "text": [
      "target found at index: 7\n"
     ]
    }
   ],
   "source": [
    "Number=[1,2,3,4,5,6,7,8,9,10]\n",
    "result=linear_search(Number,8)\n",
    "verify(result)"
   ]
  },
  {
   "cell_type": "code",
   "execution_count": 13,
   "id": "175e4d08",
   "metadata": {},
   "outputs": [
    {
     "name": "stdout",
     "output_type": "stream",
     "text": [
      "target not found in list\n"
     ]
    }
   ],
   "source": [
    "Number=[1,2,3,4,5,6,7,8,9,10]\n",
    "result=linear_search(Number,14)\n",
    "verify(result)"
   ]
  },
  {
   "cell_type": "code",
   "execution_count": 18,
   "id": "4935796f",
   "metadata": {},
   "outputs": [],
   "source": [
    "def binary_search(list,target):\n",
    "    first=0\n",
    "    last=len(list)-1\n",
    "    while first<= last:\n",
    "        midpoint=(first+last)//2\n",
    "        if list[midpoint]==target:\n",
    "            return midpoint\n",
    "        elif list[midpoint]< target:\n",
    "            first=midpoint+1\n",
    "        else:\n",
    "            last=midpoint-1 \n",
    "    return None"
   ]
  },
  {
   "cell_type": "code",
   "execution_count": 19,
   "id": "93a8644d",
   "metadata": {},
   "outputs": [
    {
     "name": "stdout",
     "output_type": "stream",
     "text": [
      "target found at index: 2\n"
     ]
    }
   ],
   "source": [
    "Number=[1,2,3,4,5,6,7,8,9,10]\n",
    "result=binary_search(Number,3)\n",
    "verify(result)"
   ]
  },
  {
   "cell_type": "code",
   "execution_count": 27,
   "id": "4ff508b1",
   "metadata": {},
   "outputs": [],
   "source": [
    "def recursive_binary_search(list, target):\n",
    "    if len(list)==0:\n",
    "        return False\n",
    "    else:\n",
    "        midpoint=len(list)//2\n",
    "        if list[midpoint]==target:\n",
    "            return midpoint\n",
    "        else:\n",
    "            if list[midpoint]<target:\n",
    "                return recursive_binary_search(list[midpoint+1:], target) \n",
    "            else:\n",
    "                return recursive_binary_search(list[:midpoint], target) \n",
    "                \n",
    "                \n",
    "    "
   ]
  },
  {
   "cell_type": "code",
   "execution_count": 28,
   "id": "a8dc9ccc",
   "metadata": {},
   "outputs": [
    {
     "name": "stdout",
     "output_type": "stream",
     "text": [
      "target found at index: 2\n"
     ]
    }
   ],
   "source": [
    "Number=[1,2,3,4,5,6,7,8,9,10]\n",
    "result=recursive_binary_search(Number,3)\n",
    "verify(result)"
   ]
  },
  {
   "cell_type": "code",
   "execution_count": null,
   "id": "067c7587",
   "metadata": {},
   "outputs": [],
   "source": []
  }
 ],
 "metadata": {
  "kernelspec": {
   "display_name": "Python 3 (ipykernel)",
   "language": "python",
   "name": "python3"
  },
  "language_info": {
   "codemirror_mode": {
    "name": "ipython",
    "version": 3
   },
   "file_extension": ".py",
   "mimetype": "text/x-python",
   "name": "python",
   "nbconvert_exporter": "python",
   "pygments_lexer": "ipython3",
   "version": "3.9.13"
  }
 },
 "nbformat": 4,
 "nbformat_minor": 5
}
